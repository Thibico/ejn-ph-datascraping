{
 "cells": [
  {
   "cell_type": "markdown",
   "metadata": {},
   "source": [
    "### Things to do\n",
    "- find all zip file ✅\n",
    "- extract specific file from zip ✅\n",
    "- save zip file name and also extracted file name\n",
    "- `os` search specific docx file\n",
    "- read it into library\n",
    "- find table (or) find specific text?\n",
    "\n",
    "- at the end , delete the document and go to next zip file"
   ]
  },
  {
   "cell_type": "code",
   "execution_count": 38,
   "metadata": {},
   "outputs": [],
   "source": [
    "import glob\n",
    "from docx import Document\n",
    "import re\n",
    "from zipfile import ZipFile"
   ]
  },
  {
   "cell_type": "code",
   "execution_count": 47,
   "metadata": {},
   "outputs": [],
   "source": [
    "def find_extract_file_from_zip(single_zip_file):\n",
    "    found_file = None\n",
    "    with ZipFile(single_zip_file, 'r') as zip:\n",
    "        zip_names = zip.namelist()\n",
    "        # print(zip_names)\n",
    "        \n",
    "        for zip_name in zip_names:\n",
    "            look_file_pattern = re.compile(r\"notes\\wto\\wfs\")\n",
    "            if look_file_pattern.search(zip_name.lower()):\n",
    "                found_file = zip_name\n",
    "                zip.extract(found_file, \"extract_zip/\")\n",
    "                break\n",
    "    print(f\"Zip {single_zip_file} - Found : {found_file}\")\n",
    "    return found_file"
   ]
  },
  {
   "cell_type": "code",
   "execution_count": 7,
   "metadata": {},
   "outputs": [
    {
     "name": "stdout",
     "output_type": "stream",
     "text": [
      "File : 08-CaloocanCity2022-Part1-Notes_to_FS.docx\n"
     ]
    }
   ],
   "source": [
    "def find_document():\n",
    "    all_doc_files = glob.glob(\"*.docx\")\n",
    "    found = None\n",
    "    for doc_file in all_doc_files:\n",
    "        look_file_pattern = re.compile(r\"notes\\wto\\wfs\")\n",
    "        if look_file_pattern.search(doc_file.lower()):\n",
    "            found = doc_file\n",
    "            break\n",
    "        \n",
    "    if found is None:\n",
    "        print(\"No specific file found.\")\n",
    "    else:\n",
    "        print(f\"File : {found}\")\n",
    "        return found"
   ]
  },
  {
   "cell_type": "code",
   "execution_count": 48,
   "metadata": {},
   "outputs": [],
   "source": [
    "def extract_data_from_doc(found_file):\n",
    "    doc = Document(f\"./extract_zip/{found_file}\")\n",
    "    all_tables = doc.tables\n",
    "\n",
    "    required_row = None\n",
    "    cell_tuple = ()\n",
    "    required_table_name = \"Detailed Statement of Financial Performance\"\n",
    "\n",
    "    for index in range(len(all_tables)):\n",
    "        if required_table_name in all_tables[index].cell(0,0).text.strip():\n",
    "            print(f\"Found : {all_tables[index].cell(0,0).text}\")\n",
    "            required_table = all_tables[index]\n",
    "            for row in required_table.rows:\n",
    "                for cell in row.cells:\n",
    "                    if \"Sanitary Services\" in cell.text.strip():\n",
    "                        required_row = row\n",
    "                        # print(cell.text.strip())\n",
    "    if required_row is not None:\n",
    "        if len(required_row.cells) == 4:\n",
    "            if \"Sanitary Services\" in required_row.cells[0].text:       \n",
    "                for cell in required_row.cells:\n",
    "                    cell_tuple = cell_tuple + (cell.text.strip(),)\n",
    "        print(f\"Cell : {cell_tuple}\")"
   ]
  },
  {
   "cell_type": "code",
   "execution_count": 50,
   "metadata": {},
   "outputs": [
    {
     "name": "stdout",
     "output_type": "stream",
     "text": [
      "Zip ./data/Malabon-City-Annual-Audit-Report-2022.zip - Found : 08-MalabonCity2022_Part1-Notes_to_FS.docx\n",
      "Zip ./data/Caloocan-City-Annual-Audit-Report-2022.zip - Found : 08-CaloocanCity2022-Part1-Notes_to_FS.docx\n",
      "Found : Detailed Statement of Financial Performance\n",
      "Cell : ('Environment/Sanitary Services', '767,671,353.46', '-', '767,671,353.46')\n",
      "Zip ./data/Navotas-City-Annual-Audit-Report-2022.zip - Found : 08-NavotasCity2022_Part1-Notes_to_FS.docx\n"
     ]
    },
    {
     "ename": "IndexError",
     "evalue": "list index out of range",
     "output_type": "error",
     "traceback": [
      "\u001b[0;31m---------------------------------------------------------------------------\u001b[0m",
      "\u001b[0;31mIndexError\u001b[0m                                Traceback (most recent call last)",
      "\u001b[1;32m/Users/thetpaing/Documents/Coding/Works_related/ejn-ph-datascraping/parse_docx/parse_doc_test.ipynb Cell 6\u001b[0m line \u001b[0;36m5\n\u001b[1;32m      <a href='vscode-notebook-cell:/Users/thetpaing/Documents/Coding/Works_related/ejn-ph-datascraping/parse_docx/parse_doc_test.ipynb#W4sZmlsZQ%3D%3D?line=2'>3</a>\u001b[0m \u001b[39mfor\u001b[39;00m zip_file \u001b[39min\u001b[39;00m all_zip_files:\n\u001b[1;32m      <a href='vscode-notebook-cell:/Users/thetpaing/Documents/Coding/Works_related/ejn-ph-datascraping/parse_docx/parse_doc_test.ipynb#W4sZmlsZQ%3D%3D?line=3'>4</a>\u001b[0m     found \u001b[39m=\u001b[39m find_extract_file_from_zip(zip_file)\n\u001b[0;32m----> <a href='vscode-notebook-cell:/Users/thetpaing/Documents/Coding/Works_related/ejn-ph-datascraping/parse_docx/parse_doc_test.ipynb#W4sZmlsZQ%3D%3D?line=4'>5</a>\u001b[0m     extract_data_from_doc(found)\n",
      "\u001b[1;32m/Users/thetpaing/Documents/Coding/Works_related/ejn-ph-datascraping/parse_docx/parse_doc_test.ipynb Cell 6\u001b[0m line \u001b[0;36m1\n\u001b[1;32m      <a href='vscode-notebook-cell:/Users/thetpaing/Documents/Coding/Works_related/ejn-ph-datascraping/parse_docx/parse_doc_test.ipynb#W4sZmlsZQ%3D%3D?line=6'>7</a>\u001b[0m required_table_name \u001b[39m=\u001b[39m \u001b[39m\"\u001b[39m\u001b[39mDetailed Statement of Financial Performance\u001b[39m\u001b[39m\"\u001b[39m\n\u001b[1;32m      <a href='vscode-notebook-cell:/Users/thetpaing/Documents/Coding/Works_related/ejn-ph-datascraping/parse_docx/parse_doc_test.ipynb#W4sZmlsZQ%3D%3D?line=8'>9</a>\u001b[0m \u001b[39mfor\u001b[39;00m index \u001b[39min\u001b[39;00m \u001b[39mrange\u001b[39m(\u001b[39mlen\u001b[39m(all_tables)):\n\u001b[0;32m---> <a href='vscode-notebook-cell:/Users/thetpaing/Documents/Coding/Works_related/ejn-ph-datascraping/parse_docx/parse_doc_test.ipynb#W4sZmlsZQ%3D%3D?line=9'>10</a>\u001b[0m     \u001b[39mif\u001b[39;00m required_table_name \u001b[39min\u001b[39;00m all_tables[index]\u001b[39m.\u001b[39;49mcell(\u001b[39m0\u001b[39;49m,\u001b[39m0\u001b[39;49m)\u001b[39m.\u001b[39mtext\u001b[39m.\u001b[39mstrip():\n\u001b[1;32m     <a href='vscode-notebook-cell:/Users/thetpaing/Documents/Coding/Works_related/ejn-ph-datascraping/parse_docx/parse_doc_test.ipynb#W4sZmlsZQ%3D%3D?line=10'>11</a>\u001b[0m         \u001b[39mprint\u001b[39m(\u001b[39mf\u001b[39m\u001b[39m\"\u001b[39m\u001b[39mFound : \u001b[39m\u001b[39m{\u001b[39;00mall_tables[index]\u001b[39m.\u001b[39mcell(\u001b[39m0\u001b[39m,\u001b[39m0\u001b[39m)\u001b[39m.\u001b[39mtext\u001b[39m}\u001b[39;00m\u001b[39m\"\u001b[39m)\n\u001b[1;32m     <a href='vscode-notebook-cell:/Users/thetpaing/Documents/Coding/Works_related/ejn-ph-datascraping/parse_docx/parse_doc_test.ipynb#W4sZmlsZQ%3D%3D?line=11'>12</a>\u001b[0m         required_table \u001b[39m=\u001b[39m all_tables[index]\n",
      "File \u001b[0;32m~/Documents/Coding/Works_related/ejn-ph-datascraping/environment/lib/python3.11/site-packages/docx/table.py:71\u001b[0m, in \u001b[0;36mTable.cell\u001b[0;34m(self, row_idx, col_idx)\u001b[0m\n\u001b[1;32m     68\u001b[0m \u001b[39m\u001b[39m\u001b[39m\"\"\"Return |_Cell| instance correponding to table cell at `row_idx`, `col_idx`\u001b[39;00m\n\u001b[1;32m     69\u001b[0m \u001b[39mintersection, where (0, 0) is the top, left-most cell.\"\"\"\u001b[39;00m\n\u001b[1;32m     70\u001b[0m cell_idx \u001b[39m=\u001b[39m col_idx \u001b[39m+\u001b[39m (row_idx \u001b[39m*\u001b[39m \u001b[39mself\u001b[39m\u001b[39m.\u001b[39m_column_count)\n\u001b[0;32m---> 71\u001b[0m \u001b[39mreturn\u001b[39;00m \u001b[39mself\u001b[39;49m\u001b[39m.\u001b[39;49m_cells[cell_idx]\n",
      "File \u001b[0;32m~/Documents/Coding/Works_related/ejn-ph-datascraping/environment/lib/python3.11/site-packages/docx/table.py:151\u001b[0m, in \u001b[0;36mTable._cells\u001b[0;34m(self)\u001b[0m\n\u001b[1;32m    149\u001b[0m \u001b[39mfor\u001b[39;00m grid_span_idx \u001b[39min\u001b[39;00m \u001b[39mrange\u001b[39m(tc\u001b[39m.\u001b[39mgrid_span):\n\u001b[1;32m    150\u001b[0m     \u001b[39mif\u001b[39;00m tc\u001b[39m.\u001b[39mvMerge \u001b[39m==\u001b[39m ST_Merge\u001b[39m.\u001b[39mCONTINUE:\n\u001b[0;32m--> 151\u001b[0m         cells\u001b[39m.\u001b[39mappend(cells[\u001b[39m-\u001b[39;49mcol_count])\n\u001b[1;32m    152\u001b[0m     \u001b[39melif\u001b[39;00m grid_span_idx \u001b[39m>\u001b[39m \u001b[39m0\u001b[39m:\n\u001b[1;32m    153\u001b[0m         cells\u001b[39m.\u001b[39mappend(cells[\u001b[39m-\u001b[39m\u001b[39m1\u001b[39m])\n",
      "\u001b[0;31mIndexError\u001b[0m: list index out of range"
     ]
    }
   ],
   "source": [
    "all_zip_files = glob.glob(\"./data/*.zip\")\n",
    "\n",
    "for zip_file in all_zip_files:\n",
    "    found = find_extract_file_from_zip(zip_file)\n",
    "    extract_data_from_doc(found)"
   ]
  },
  {
   "cell_type": "code",
   "execution_count": null,
   "metadata": {},
   "outputs": [],
   "source": []
  }
 ],
 "metadata": {
  "kernelspec": {
   "display_name": "environment",
   "language": "python",
   "name": "python3"
  },
  "language_info": {
   "codemirror_mode": {
    "name": "ipython",
    "version": 3
   },
   "file_extension": ".py",
   "mimetype": "text/x-python",
   "name": "python",
   "nbconvert_exporter": "python",
   "pygments_lexer": "ipython3",
   "version": "3.11.0"
  }
 },
 "nbformat": 4,
 "nbformat_minor": 2
}
